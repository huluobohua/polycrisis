{
  "nbformat": 4,
  "nbformat_minor": 0,
  "metadata": {
    "colab": {
      "provenance": [],
      "include_colab_link": true
    },
    "kernelspec": {
      "name": "python3",
      "display_name": "Python 3"
    },
    "language_info": {
      "name": "python"
    }
  },
  "cells": [
    {
      "cell_type": "markdown",
      "metadata": {
        "id": "view-in-github",
        "colab_type": "text"
      },
      "source": [
        "<a href=\"https://colab.research.google.com/github/huluobohua/polycrisis/blob/main/Coding_data_transformations.ipynb\" target=\"_parent\"><img src=\"https://colab.research.google.com/assets/colab-badge.svg\" alt=\"Open In Colab\"/></a>"
      ]
    },
    {
      "cell_type": "code",
      "source": [
        "https://github.com/huluobohua/polycrisis/blob/main/0.%20Polycrisis%20dashboard%20-%20Raw%20data%20for%20Mariana2.xlsx?raw=true"
      ],
      "metadata": {
        "id": "_x8JBpA33bW_"
      },
      "execution_count": null,
      "outputs": []
    },
    {
      "cell_type": "markdown",
      "source": [
        "# Coding data transformations\n",
        "\n",
        "First, let's mount Google Drive so we can load files from Google Drive Folders."
      ],
      "metadata": {
        "id": "6c54YwEcCQ8q"
      }
    },
    {
      "cell_type": "code",
      "execution_count": null,
      "metadata": {
        "colab": {
          "base_uri": "https://localhost:8080/"
        },
        "id": "NnOOx71vBvmq",
        "outputId": "fa1419ae-d7a3-411e-f6f1-82419b427aa3"
      },
      "outputs": [
        {
          "output_type": "stream",
          "name": "stdout",
          "text": [
            "Drive already mounted at /content/gdrive; to attempt to forcibly remount, call drive.mount(\"/content/gdrive\", force_remount=True).\n",
            "[Errno 2] No such file or directory: '/content/gdrive/Shared with me/Unicef Foresight and Policy/'\n",
            "/content\n"
          ]
        }
      ],
      "source": [
        "#/* from google.colab import drive\n",
        "#drive.mount('/content/gdrive')\n",
        "#%cd /content/gdrive/'Shared with me'/'Unicef Foresight and Policy' */"
      ]
    },
    {
      "cell_type": "markdown",
      "source": [
        "Then, we'll load the file that contains the data to be dispayed."
      ],
      "metadata": {
        "id": "QSmI_uuSCYOD"
      }
    },
    {
      "cell_type": "code",
      "source": [
        "#Locate file\n",
        "import pandas as pd\n",
        "import openpyxl\n",
        "f = 'https://github.com/huluobohua/polycrisis/blob/main/0.%20Polycrisis%20dashboard%20-%20Raw%20data%20for%20Mariana2.xlsx?raw=true'\n"
      ],
      "metadata": {
        "id": "oS08ew78Caxy"
      },
      "execution_count": 1,
      "outputs": []
    },
    {
      "cell_type": "markdown",
      "source": [
        "### GBP indicator B"
      ],
      "metadata": {
        "id": "j4YKx6XfYnIs"
      }
    },
    {
      "cell_type": "code",
      "source": [
        "#Load xlsx sheet\n",
        "import numpy as np\n",
        "import pandas as pd\n",
        "df1 = pd.read_excel(f,\n",
        "  sheet_name=\"GDP indicator B\",\n",
        "  skiprows=1,\n",
        "  nrows=197,\n",
        "  usecols=\"A:K\"\n",
        ");\n",
        "\n",
        "df1.head()"
      ],
      "metadata": {
        "colab": {
          "base_uri": "https://localhost:8080/",
          "height": 392
        },
        "id": "gjj-1nwKYroF",
        "outputId": "2a4f8ec7-f53c-4e63-bc89-befdbb988b77"
      },
      "execution_count": 2,
      "outputs": [
        {
          "output_type": "stream",
          "name": "stderr",
          "text": [
            "/usr/local/lib/python3.8/dist-packages/pandas/io/excel/_base.py:1272: FutureWarning: Defining usecols with out of bounds indices is deprecated and will raise a ParserError in a future version.\n",
            "  return self._reader.parse(\n"
          ]
        },
        {
          "output_type": "execute_result",
          "data": {
            "text/plain": [
              "  ISO Code  IMF growth forecast for 2023 in Oct 21  \\\n",
              "0      ABW                                   6.200   \n",
              "1      AFG                                     NaN   \n",
              "2      AGO                                   3.328   \n",
              "3      AIA                                     NaN   \n",
              "4      ALB                                   4.100   \n",
              "\n",
              "   IMF growth forecast for 2023 in Oct 22 ISO3  CountryName  \\\n",
              "0                                   1.950  ABW        Aruba   \n",
              "1                                     NaN  AFG  Afghanistan   \n",
              "2                                   3.427  AGO       Angola   \n",
              "3                                     NaN  AIA      Anguila   \n",
              "4                                   2.500  ALB      Albania   \n",
              "\n",
              "                   UNSubRegionName UNICEFRegionCode  NATCOM  Programme  \n",
              "0  Latin America and the Caribbean              NaN       0          0  \n",
              "1                    Southern Asia               SA       0          1  \n",
              "2               Sub-Saharan Africa              ESA       0          1  \n",
              "3  Latin America and the Caribbean              CAO       0          1  \n",
              "4                  Southern Europe              ECA       0          1  "
            ],
            "text/html": [
              "\n",
              "  <div id=\"df-44349d95-954e-4eca-9473-cf808f300646\">\n",
              "    <div class=\"colab-df-container\">\n",
              "      <div>\n",
              "<style scoped>\n",
              "    .dataframe tbody tr th:only-of-type {\n",
              "        vertical-align: middle;\n",
              "    }\n",
              "\n",
              "    .dataframe tbody tr th {\n",
              "        vertical-align: top;\n",
              "    }\n",
              "\n",
              "    .dataframe thead th {\n",
              "        text-align: right;\n",
              "    }\n",
              "</style>\n",
              "<table border=\"1\" class=\"dataframe\">\n",
              "  <thead>\n",
              "    <tr style=\"text-align: right;\">\n",
              "      <th></th>\n",
              "      <th>ISO Code</th>\n",
              "      <th>IMF growth forecast for 2023 in Oct 21</th>\n",
              "      <th>IMF growth forecast for 2023 in Oct 22</th>\n",
              "      <th>ISO3</th>\n",
              "      <th>CountryName</th>\n",
              "      <th>UNSubRegionName</th>\n",
              "      <th>UNICEFRegionCode</th>\n",
              "      <th>NATCOM</th>\n",
              "      <th>Programme</th>\n",
              "    </tr>\n",
              "  </thead>\n",
              "  <tbody>\n",
              "    <tr>\n",
              "      <th>0</th>\n",
              "      <td>ABW</td>\n",
              "      <td>6.200</td>\n",
              "      <td>1.950</td>\n",
              "      <td>ABW</td>\n",
              "      <td>Aruba</td>\n",
              "      <td>Latin America and the Caribbean</td>\n",
              "      <td>NaN</td>\n",
              "      <td>0</td>\n",
              "      <td>0</td>\n",
              "    </tr>\n",
              "    <tr>\n",
              "      <th>1</th>\n",
              "      <td>AFG</td>\n",
              "      <td>NaN</td>\n",
              "      <td>NaN</td>\n",
              "      <td>AFG</td>\n",
              "      <td>Afghanistan</td>\n",
              "      <td>Southern Asia</td>\n",
              "      <td>SA</td>\n",
              "      <td>0</td>\n",
              "      <td>1</td>\n",
              "    </tr>\n",
              "    <tr>\n",
              "      <th>2</th>\n",
              "      <td>AGO</td>\n",
              "      <td>3.328</td>\n",
              "      <td>3.427</td>\n",
              "      <td>AGO</td>\n",
              "      <td>Angola</td>\n",
              "      <td>Sub-Saharan Africa</td>\n",
              "      <td>ESA</td>\n",
              "      <td>0</td>\n",
              "      <td>1</td>\n",
              "    </tr>\n",
              "    <tr>\n",
              "      <th>3</th>\n",
              "      <td>AIA</td>\n",
              "      <td>NaN</td>\n",
              "      <td>NaN</td>\n",
              "      <td>AIA</td>\n",
              "      <td>Anguila</td>\n",
              "      <td>Latin America and the Caribbean</td>\n",
              "      <td>CAO</td>\n",
              "      <td>0</td>\n",
              "      <td>1</td>\n",
              "    </tr>\n",
              "    <tr>\n",
              "      <th>4</th>\n",
              "      <td>ALB</td>\n",
              "      <td>4.100</td>\n",
              "      <td>2.500</td>\n",
              "      <td>ALB</td>\n",
              "      <td>Albania</td>\n",
              "      <td>Southern Europe</td>\n",
              "      <td>ECA</td>\n",
              "      <td>0</td>\n",
              "      <td>1</td>\n",
              "    </tr>\n",
              "  </tbody>\n",
              "</table>\n",
              "</div>\n",
              "      <button class=\"colab-df-convert\" onclick=\"convertToInteractive('df-44349d95-954e-4eca-9473-cf808f300646')\"\n",
              "              title=\"Convert this dataframe to an interactive table.\"\n",
              "              style=\"display:none;\">\n",
              "        \n",
              "  <svg xmlns=\"http://www.w3.org/2000/svg\" height=\"24px\"viewBox=\"0 0 24 24\"\n",
              "       width=\"24px\">\n",
              "    <path d=\"M0 0h24v24H0V0z\" fill=\"none\"/>\n",
              "    <path d=\"M18.56 5.44l.94 2.06.94-2.06 2.06-.94-2.06-.94-.94-2.06-.94 2.06-2.06.94zm-11 1L8.5 8.5l.94-2.06 2.06-.94-2.06-.94L8.5 2.5l-.94 2.06-2.06.94zm10 10l.94 2.06.94-2.06 2.06-.94-2.06-.94-.94-2.06-.94 2.06-2.06.94z\"/><path d=\"M17.41 7.96l-1.37-1.37c-.4-.4-.92-.59-1.43-.59-.52 0-1.04.2-1.43.59L10.3 9.45l-7.72 7.72c-.78.78-.78 2.05 0 2.83L4 21.41c.39.39.9.59 1.41.59.51 0 1.02-.2 1.41-.59l7.78-7.78 2.81-2.81c.8-.78.8-2.07 0-2.86zM5.41 20L4 18.59l7.72-7.72 1.47 1.35L5.41 20z\"/>\n",
              "  </svg>\n",
              "      </button>\n",
              "      \n",
              "  <style>\n",
              "    .colab-df-container {\n",
              "      display:flex;\n",
              "      flex-wrap:wrap;\n",
              "      gap: 12px;\n",
              "    }\n",
              "\n",
              "    .colab-df-convert {\n",
              "      background-color: #E8F0FE;\n",
              "      border: none;\n",
              "      border-radius: 50%;\n",
              "      cursor: pointer;\n",
              "      display: none;\n",
              "      fill: #1967D2;\n",
              "      height: 32px;\n",
              "      padding: 0 0 0 0;\n",
              "      width: 32px;\n",
              "    }\n",
              "\n",
              "    .colab-df-convert:hover {\n",
              "      background-color: #E2EBFA;\n",
              "      box-shadow: 0px 1px 2px rgba(60, 64, 67, 0.3), 0px 1px 3px 1px rgba(60, 64, 67, 0.15);\n",
              "      fill: #174EA6;\n",
              "    }\n",
              "\n",
              "    [theme=dark] .colab-df-convert {\n",
              "      background-color: #3B4455;\n",
              "      fill: #D2E3FC;\n",
              "    }\n",
              "\n",
              "    [theme=dark] .colab-df-convert:hover {\n",
              "      background-color: #434B5C;\n",
              "      box-shadow: 0px 1px 3px 1px rgba(0, 0, 0, 0.15);\n",
              "      filter: drop-shadow(0px 1px 2px rgba(0, 0, 0, 0.3));\n",
              "      fill: #FFFFFF;\n",
              "    }\n",
              "  </style>\n",
              "\n",
              "      <script>\n",
              "        const buttonEl =\n",
              "          document.querySelector('#df-44349d95-954e-4eca-9473-cf808f300646 button.colab-df-convert');\n",
              "        buttonEl.style.display =\n",
              "          google.colab.kernel.accessAllowed ? 'block' : 'none';\n",
              "\n",
              "        async function convertToInteractive(key) {\n",
              "          const element = document.querySelector('#df-44349d95-954e-4eca-9473-cf808f300646');\n",
              "          const dataTable =\n",
              "            await google.colab.kernel.invokeFunction('convertToInteractive',\n",
              "                                                     [key], {});\n",
              "          if (!dataTable) return;\n",
              "\n",
              "          const docLinkHtml = 'Like what you see? Visit the ' +\n",
              "            '<a target=\"_blank\" href=https://colab.research.google.com/notebooks/data_table.ipynb>data table notebook</a>'\n",
              "            + ' to learn more about interactive tables.';\n",
              "          element.innerHTML = '';\n",
              "          dataTable['output_type'] = 'display_data';\n",
              "          await google.colab.output.renderOutput(dataTable, element);\n",
              "          const docLink = document.createElement('div');\n",
              "          docLink.innerHTML = docLinkHtml;\n",
              "          element.appendChild(docLink);\n",
              "        }\n",
              "      </script>\n",
              "    </div>\n",
              "  </div>\n",
              "  "
            ]
          },
          "metadata": {},
          "execution_count": 2
        }
      ]
    },
    {
      "cell_type": "code",
      "source": [
        "#Replicate column C using A1 and A2\n",
        "a1_gdpb = \"IMF growth forecast for 2023 in Oct 21\"\n",
        "a2_gdpb = \"IMF growth forecast for 2023 in Oct 22\"\n",
        "\n",
        "\n",
        "df1_c = ( df1[a2_gdpb] - df1[a1_gdpb] ) / abs(df1[a1_gdpb]) #operation\n",
        "assert all( df1_c.dropna() == df1[c_gdpb].dropna() ) #sanity check\n",
        "\n",
        "df1_c.head()"
      ],
      "metadata": {
        "id": "ieP-kgivZUed",
        "colab": {
          "base_uri": "https://localhost:8080/",
          "height": 502
        },
        "outputId": "daab24b9-ad35-4f09-ca08-af14b930b695"
      },
      "execution_count": 4,
      "outputs": [
        {
          "output_type": "error",
          "ename": "KeyError",
          "evalue": "ignored",
          "traceback": [
            "\u001b[0;31m---------------------------------------------------------------------------\u001b[0m",
            "\u001b[0;31mKeyError\u001b[0m                                  Traceback (most recent call last)",
            "\u001b[0;32m/usr/local/lib/python3.8/dist-packages/pandas/core/indexes/base.py\u001b[0m in \u001b[0;36mget_loc\u001b[0;34m(self, key, method, tolerance)\u001b[0m\n\u001b[1;32m   3360\u001b[0m             \u001b[0;32mtry\u001b[0m\u001b[0;34m:\u001b[0m\u001b[0;34m\u001b[0m\u001b[0;34m\u001b[0m\u001b[0m\n\u001b[0;32m-> 3361\u001b[0;31m                 \u001b[0;32mreturn\u001b[0m \u001b[0mself\u001b[0m\u001b[0;34m.\u001b[0m\u001b[0m_engine\u001b[0m\u001b[0;34m.\u001b[0m\u001b[0mget_loc\u001b[0m\u001b[0;34m(\u001b[0m\u001b[0mcasted_key\u001b[0m\u001b[0;34m)\u001b[0m\u001b[0;34m\u001b[0m\u001b[0;34m\u001b[0m\u001b[0m\n\u001b[0m\u001b[1;32m   3362\u001b[0m             \u001b[0;32mexcept\u001b[0m \u001b[0mKeyError\u001b[0m \u001b[0;32mas\u001b[0m \u001b[0merr\u001b[0m\u001b[0;34m:\u001b[0m\u001b[0;34m\u001b[0m\u001b[0;34m\u001b[0m\u001b[0m\n",
            "\u001b[0;32m/usr/local/lib/python3.8/dist-packages/pandas/_libs/index.pyx\u001b[0m in \u001b[0;36mpandas._libs.index.IndexEngine.get_loc\u001b[0;34m()\u001b[0m\n",
            "\u001b[0;32m/usr/local/lib/python3.8/dist-packages/pandas/_libs/index.pyx\u001b[0m in \u001b[0;36mpandas._libs.index.IndexEngine.get_loc\u001b[0;34m()\u001b[0m\n",
            "\u001b[0;32mpandas/_libs/hashtable_class_helper.pxi\u001b[0m in \u001b[0;36mpandas._libs.hashtable.PyObjectHashTable.get_item\u001b[0;34m()\u001b[0m\n",
            "\u001b[0;32mpandas/_libs/hashtable_class_helper.pxi\u001b[0m in \u001b[0;36mpandas._libs.hashtable.PyObjectHashTable.get_item\u001b[0;34m()\u001b[0m\n",
            "\u001b[0;31mKeyError\u001b[0m: 'Relative IMF growth projection'",
            "\nThe above exception was the direct cause of the following exception:\n",
            "\u001b[0;31mKeyError\u001b[0m                                  Traceback (most recent call last)",
            "\u001b[0;32m<ipython-input-4-169dbe26f1ea>\u001b[0m in \u001b[0;36m<module>\u001b[0;34m\u001b[0m\n\u001b[1;32m      5\u001b[0m \u001b[0;34m\u001b[0m\u001b[0m\n\u001b[1;32m      6\u001b[0m \u001b[0mdf1_c\u001b[0m \u001b[0;34m=\u001b[0m \u001b[0;34m(\u001b[0m \u001b[0mdf1\u001b[0m\u001b[0;34m[\u001b[0m\u001b[0ma2_gdpb\u001b[0m\u001b[0;34m]\u001b[0m \u001b[0;34m-\u001b[0m \u001b[0mdf1\u001b[0m\u001b[0;34m[\u001b[0m\u001b[0ma1_gdpb\u001b[0m\u001b[0;34m]\u001b[0m \u001b[0;34m)\u001b[0m \u001b[0;34m/\u001b[0m \u001b[0mabs\u001b[0m\u001b[0;34m(\u001b[0m\u001b[0mdf1\u001b[0m\u001b[0;34m[\u001b[0m\u001b[0ma1_gdpb\u001b[0m\u001b[0;34m]\u001b[0m\u001b[0;34m)\u001b[0m \u001b[0;31m#operation\u001b[0m\u001b[0;34m\u001b[0m\u001b[0;34m\u001b[0m\u001b[0m\n\u001b[0;32m----> 7\u001b[0;31m \u001b[0;32massert\u001b[0m \u001b[0mall\u001b[0m\u001b[0;34m(\u001b[0m \u001b[0mdf1_c\u001b[0m\u001b[0;34m.\u001b[0m\u001b[0mdropna\u001b[0m\u001b[0;34m(\u001b[0m\u001b[0;34m)\u001b[0m \u001b[0;34m==\u001b[0m \u001b[0mdf1\u001b[0m\u001b[0;34m[\u001b[0m\u001b[0mc_gdpb\u001b[0m\u001b[0;34m]\u001b[0m\u001b[0;34m.\u001b[0m\u001b[0mdropna\u001b[0m\u001b[0;34m(\u001b[0m\u001b[0;34m)\u001b[0m \u001b[0;34m)\u001b[0m \u001b[0;31m#sanity check\u001b[0m\u001b[0;34m\u001b[0m\u001b[0;34m\u001b[0m\u001b[0m\n\u001b[0m\u001b[1;32m      8\u001b[0m \u001b[0;34m\u001b[0m\u001b[0m\n\u001b[1;32m      9\u001b[0m \u001b[0mdf1_c\u001b[0m\u001b[0;34m.\u001b[0m\u001b[0mhead\u001b[0m\u001b[0;34m(\u001b[0m\u001b[0;34m)\u001b[0m\u001b[0;34m\u001b[0m\u001b[0;34m\u001b[0m\u001b[0m\n",
            "\u001b[0;32m/usr/local/lib/python3.8/dist-packages/pandas/core/frame.py\u001b[0m in \u001b[0;36m__getitem__\u001b[0;34m(self, key)\u001b[0m\n\u001b[1;32m   3456\u001b[0m             \u001b[0;32mif\u001b[0m \u001b[0mself\u001b[0m\u001b[0;34m.\u001b[0m\u001b[0mcolumns\u001b[0m\u001b[0;34m.\u001b[0m\u001b[0mnlevels\u001b[0m \u001b[0;34m>\u001b[0m \u001b[0;36m1\u001b[0m\u001b[0;34m:\u001b[0m\u001b[0;34m\u001b[0m\u001b[0;34m\u001b[0m\u001b[0m\n\u001b[1;32m   3457\u001b[0m                 \u001b[0;32mreturn\u001b[0m \u001b[0mself\u001b[0m\u001b[0;34m.\u001b[0m\u001b[0m_getitem_multilevel\u001b[0m\u001b[0;34m(\u001b[0m\u001b[0mkey\u001b[0m\u001b[0;34m)\u001b[0m\u001b[0;34m\u001b[0m\u001b[0;34m\u001b[0m\u001b[0m\n\u001b[0;32m-> 3458\u001b[0;31m             \u001b[0mindexer\u001b[0m \u001b[0;34m=\u001b[0m \u001b[0mself\u001b[0m\u001b[0;34m.\u001b[0m\u001b[0mcolumns\u001b[0m\u001b[0;34m.\u001b[0m\u001b[0mget_loc\u001b[0m\u001b[0;34m(\u001b[0m\u001b[0mkey\u001b[0m\u001b[0;34m)\u001b[0m\u001b[0;34m\u001b[0m\u001b[0;34m\u001b[0m\u001b[0m\n\u001b[0m\u001b[1;32m   3459\u001b[0m             \u001b[0;32mif\u001b[0m \u001b[0mis_integer\u001b[0m\u001b[0;34m(\u001b[0m\u001b[0mindexer\u001b[0m\u001b[0;34m)\u001b[0m\u001b[0;34m:\u001b[0m\u001b[0;34m\u001b[0m\u001b[0;34m\u001b[0m\u001b[0m\n\u001b[1;32m   3460\u001b[0m                 \u001b[0mindexer\u001b[0m \u001b[0;34m=\u001b[0m \u001b[0;34m[\u001b[0m\u001b[0mindexer\u001b[0m\u001b[0;34m]\u001b[0m\u001b[0;34m\u001b[0m\u001b[0;34m\u001b[0m\u001b[0m\n",
            "\u001b[0;32m/usr/local/lib/python3.8/dist-packages/pandas/core/indexes/base.py\u001b[0m in \u001b[0;36mget_loc\u001b[0;34m(self, key, method, tolerance)\u001b[0m\n\u001b[1;32m   3361\u001b[0m                 \u001b[0;32mreturn\u001b[0m \u001b[0mself\u001b[0m\u001b[0;34m.\u001b[0m\u001b[0m_engine\u001b[0m\u001b[0;34m.\u001b[0m\u001b[0mget_loc\u001b[0m\u001b[0;34m(\u001b[0m\u001b[0mcasted_key\u001b[0m\u001b[0;34m)\u001b[0m\u001b[0;34m\u001b[0m\u001b[0;34m\u001b[0m\u001b[0m\n\u001b[1;32m   3362\u001b[0m             \u001b[0;32mexcept\u001b[0m \u001b[0mKeyError\u001b[0m \u001b[0;32mas\u001b[0m \u001b[0merr\u001b[0m\u001b[0;34m:\u001b[0m\u001b[0;34m\u001b[0m\u001b[0;34m\u001b[0m\u001b[0m\n\u001b[0;32m-> 3363\u001b[0;31m                 \u001b[0;32mraise\u001b[0m \u001b[0mKeyError\u001b[0m\u001b[0;34m(\u001b[0m\u001b[0mkey\u001b[0m\u001b[0;34m)\u001b[0m \u001b[0;32mfrom\u001b[0m \u001b[0merr\u001b[0m\u001b[0;34m\u001b[0m\u001b[0;34m\u001b[0m\u001b[0m\n\u001b[0m\u001b[1;32m   3364\u001b[0m \u001b[0;34m\u001b[0m\u001b[0m\n\u001b[1;32m   3365\u001b[0m         \u001b[0;32mif\u001b[0m \u001b[0mis_scalar\u001b[0m\u001b[0;34m(\u001b[0m\u001b[0mkey\u001b[0m\u001b[0;34m)\u001b[0m \u001b[0;32mand\u001b[0m \u001b[0misna\u001b[0m\u001b[0;34m(\u001b[0m\u001b[0mkey\u001b[0m\u001b[0;34m)\u001b[0m \u001b[0;32mand\u001b[0m \u001b[0;32mnot\u001b[0m \u001b[0mself\u001b[0m\u001b[0;34m.\u001b[0m\u001b[0mhasnans\u001b[0m\u001b[0;34m:\u001b[0m\u001b[0;34m\u001b[0m\u001b[0;34m\u001b[0m\u001b[0m\n",
            "\u001b[0;31mKeyError\u001b[0m: 'Relative IMF growth projection'"
          ]
        }
      ]
    },
    {
      "cell_type": "code",
      "source": [
        "#Replicate column D using C\n",
        "d_gdpb = \"Relative IMF growth projection shifted right\"\n",
        "\n",
        "df1_d = df1_c + abs( df1_c.min() ) #operation\n",
        "assert all( df1_d.dropna() == df1[d_gdpb].dropna() ) #sanity check\n",
        "\n",
        "df1_d.head()"
      ],
      "metadata": {
        "id": "6E_7yDe8eJNN",
        "colab": {
          "base_uri": "https://localhost:8080/"
        },
        "outputId": "f4ae3a2e-e84f-4b06-b86a-5a1c7ac64b94"
      },
      "execution_count": null,
      "outputs": [
        {
          "output_type": "execute_result",
          "data": {
            "text/plain": [
              "0    1.454516\n",
              "1         NaN\n",
              "2    2.169748\n",
              "3    1.749756\n",
              "4    1.880741\n",
              "dtype: float64"
            ]
          },
          "metadata": {},
          "execution_count": 25
        }
      ]
    },
    {
      "cell_type": "code",
      "source": [
        "#Replicate column I using D\n",
        "i_gdpb = \"Normalized multiplied by 10 and direction shifted (higher is worse)\"\n",
        "\n",
        "#normalisation\n",
        "q1, q3 = df1_d.quantile(.25), df1_d.quantile(.75)\n",
        "outlier_uppercut = q3 + 2*(q3-q1)\n",
        "filter = df1_d.between(q1, outlier_uppercut, inclusive=\"both\")\n",
        "normalisation = pd.Series([\n",
        "    #operation\n",
        "     ((d-df1_d.min())/(df1_d[filter].max()-df1_d.min()) if d < outlier_uppercut\n",
        "     else (1. if not np.isnan(d) else np.nan))\n",
        "     for d in df1_d \n",
        "])\n",
        "\n",
        "#reindexing\n",
        "df1_i = 10 - 10*(normalisation)\n",
        "df1_i.head()"
      ],
      "metadata": {
        "id": "dxi7XxtKgCSI",
        "colab": {
          "base_uri": "https://localhost:8080/"
        },
        "outputId": "f3dae480-e402-4873-b92d-c2058b473779"
      },
      "execution_count": null,
      "outputs": [
        {
          "output_type": "execute_result",
          "data": {
            "text/plain": [
              "0    4.832758\n",
              "1         NaN\n",
              "2    2.291863\n",
              "3    3.783903\n",
              "4    3.318574\n",
              "dtype: float64"
            ]
          },
          "metadata": {},
          "execution_count": 26
        }
      ]
    },
    {
      "cell_type": "markdown",
      "source": [
        "### Food inflation indicator"
      ],
      "metadata": {
        "id": "SYRqgIVcYzqQ"
      }
    },
    {
      "cell_type": "code",
      "source": [
        "#Load xlsx sheet\n",
        "df2 = pd.read_excel(f,\n",
        "  sheet_name=\"Food inflation indicator\",\n",
        "  skiprows=1,\n",
        "  nrows=196,\n",
        "  usecols=\"A:G\"\n",
        ");\n",
        "\n",
        "df2.head()"
      ],
      "metadata": {
        "id": "0cbPGo6XY2On",
        "colab": {
          "base_uri": "https://localhost:8080/",
          "height": 206
        },
        "outputId": "19743cc7-aeca-48b7-ee44-f53ad670d907"
      },
      "execution_count": null,
      "outputs": [
        {
          "output_type": "execute_result",
          "data": {
            "text/plain": [
              "       Country  ISO  Food inflation  Food inflation shifted right  Normalized  \\\n",
              "0        Aruba  ABW           11.53                         12.51    0.255306   \n",
              "1  Afghanistan  AFG           17.59                         18.57    0.378980   \n",
              "2       Angola  AGO           16.80                         17.78    0.362857   \n",
              "3      Albania  ALB           15.30                         16.28    0.332245   \n",
              "4      Andorra  AND             NaN                           NaN         NaN   \n",
              "\n",
              "  ISO.1  Normalized*10  \n",
              "0   ABW       2.553061  \n",
              "1   AFG       3.789796  \n",
              "2   AGO       3.628571  \n",
              "3   ALB       3.322449  \n",
              "4   AND            NaN  "
            ],
            "text/html": [
              "\n",
              "  <div id=\"df-eb883ba8-19e2-4f11-9cc8-66d0c11bcf0e\">\n",
              "    <div class=\"colab-df-container\">\n",
              "      <div>\n",
              "<style scoped>\n",
              "    .dataframe tbody tr th:only-of-type {\n",
              "        vertical-align: middle;\n",
              "    }\n",
              "\n",
              "    .dataframe tbody tr th {\n",
              "        vertical-align: top;\n",
              "    }\n",
              "\n",
              "    .dataframe thead th {\n",
              "        text-align: right;\n",
              "    }\n",
              "</style>\n",
              "<table border=\"1\" class=\"dataframe\">\n",
              "  <thead>\n",
              "    <tr style=\"text-align: right;\">\n",
              "      <th></th>\n",
              "      <th>Country</th>\n",
              "      <th>ISO</th>\n",
              "      <th>Food inflation</th>\n",
              "      <th>Food inflation shifted right</th>\n",
              "      <th>Normalized</th>\n",
              "      <th>ISO.1</th>\n",
              "      <th>Normalized*10</th>\n",
              "    </tr>\n",
              "  </thead>\n",
              "  <tbody>\n",
              "    <tr>\n",
              "      <th>0</th>\n",
              "      <td>Aruba</td>\n",
              "      <td>ABW</td>\n",
              "      <td>11.53</td>\n",
              "      <td>12.51</td>\n",
              "      <td>0.255306</td>\n",
              "      <td>ABW</td>\n",
              "      <td>2.553061</td>\n",
              "    </tr>\n",
              "    <tr>\n",
              "      <th>1</th>\n",
              "      <td>Afghanistan</td>\n",
              "      <td>AFG</td>\n",
              "      <td>17.59</td>\n",
              "      <td>18.57</td>\n",
              "      <td>0.378980</td>\n",
              "      <td>AFG</td>\n",
              "      <td>3.789796</td>\n",
              "    </tr>\n",
              "    <tr>\n",
              "      <th>2</th>\n",
              "      <td>Angola</td>\n",
              "      <td>AGO</td>\n",
              "      <td>16.80</td>\n",
              "      <td>17.78</td>\n",
              "      <td>0.362857</td>\n",
              "      <td>AGO</td>\n",
              "      <td>3.628571</td>\n",
              "    </tr>\n",
              "    <tr>\n",
              "      <th>3</th>\n",
              "      <td>Albania</td>\n",
              "      <td>ALB</td>\n",
              "      <td>15.30</td>\n",
              "      <td>16.28</td>\n",
              "      <td>0.332245</td>\n",
              "      <td>ALB</td>\n",
              "      <td>3.322449</td>\n",
              "    </tr>\n",
              "    <tr>\n",
              "      <th>4</th>\n",
              "      <td>Andorra</td>\n",
              "      <td>AND</td>\n",
              "      <td>NaN</td>\n",
              "      <td>NaN</td>\n",
              "      <td>NaN</td>\n",
              "      <td>AND</td>\n",
              "      <td>NaN</td>\n",
              "    </tr>\n",
              "  </tbody>\n",
              "</table>\n",
              "</div>\n",
              "      <button class=\"colab-df-convert\" onclick=\"convertToInteractive('df-eb883ba8-19e2-4f11-9cc8-66d0c11bcf0e')\"\n",
              "              title=\"Convert this dataframe to an interactive table.\"\n",
              "              style=\"display:none;\">\n",
              "        \n",
              "  <svg xmlns=\"http://www.w3.org/2000/svg\" height=\"24px\"viewBox=\"0 0 24 24\"\n",
              "       width=\"24px\">\n",
              "    <path d=\"M0 0h24v24H0V0z\" fill=\"none\"/>\n",
              "    <path d=\"M18.56 5.44l.94 2.06.94-2.06 2.06-.94-2.06-.94-.94-2.06-.94 2.06-2.06.94zm-11 1L8.5 8.5l.94-2.06 2.06-.94-2.06-.94L8.5 2.5l-.94 2.06-2.06.94zm10 10l.94 2.06.94-2.06 2.06-.94-2.06-.94-.94-2.06-.94 2.06-2.06.94z\"/><path d=\"M17.41 7.96l-1.37-1.37c-.4-.4-.92-.59-1.43-.59-.52 0-1.04.2-1.43.59L10.3 9.45l-7.72 7.72c-.78.78-.78 2.05 0 2.83L4 21.41c.39.39.9.59 1.41.59.51 0 1.02-.2 1.41-.59l7.78-7.78 2.81-2.81c.8-.78.8-2.07 0-2.86zM5.41 20L4 18.59l7.72-7.72 1.47 1.35L5.41 20z\"/>\n",
              "  </svg>\n",
              "      </button>\n",
              "      \n",
              "  <style>\n",
              "    .colab-df-container {\n",
              "      display:flex;\n",
              "      flex-wrap:wrap;\n",
              "      gap: 12px;\n",
              "    }\n",
              "\n",
              "    .colab-df-convert {\n",
              "      background-color: #E8F0FE;\n",
              "      border: none;\n",
              "      border-radius: 50%;\n",
              "      cursor: pointer;\n",
              "      display: none;\n",
              "      fill: #1967D2;\n",
              "      height: 32px;\n",
              "      padding: 0 0 0 0;\n",
              "      width: 32px;\n",
              "    }\n",
              "\n",
              "    .colab-df-convert:hover {\n",
              "      background-color: #E2EBFA;\n",
              "      box-shadow: 0px 1px 2px rgba(60, 64, 67, 0.3), 0px 1px 3px 1px rgba(60, 64, 67, 0.15);\n",
              "      fill: #174EA6;\n",
              "    }\n",
              "\n",
              "    [theme=dark] .colab-df-convert {\n",
              "      background-color: #3B4455;\n",
              "      fill: #D2E3FC;\n",
              "    }\n",
              "\n",
              "    [theme=dark] .colab-df-convert:hover {\n",
              "      background-color: #434B5C;\n",
              "      box-shadow: 0px 1px 3px 1px rgba(0, 0, 0, 0.15);\n",
              "      filter: drop-shadow(0px 1px 2px rgba(0, 0, 0, 0.3));\n",
              "      fill: #FFFFFF;\n",
              "    }\n",
              "  </style>\n",
              "\n",
              "      <script>\n",
              "        const buttonEl =\n",
              "          document.querySelector('#df-eb883ba8-19e2-4f11-9cc8-66d0c11bcf0e button.colab-df-convert');\n",
              "        buttonEl.style.display =\n",
              "          google.colab.kernel.accessAllowed ? 'block' : 'none';\n",
              "\n",
              "        async function convertToInteractive(key) {\n",
              "          const element = document.querySelector('#df-eb883ba8-19e2-4f11-9cc8-66d0c11bcf0e');\n",
              "          const dataTable =\n",
              "            await google.colab.kernel.invokeFunction('convertToInteractive',\n",
              "                                                     [key], {});\n",
              "          if (!dataTable) return;\n",
              "\n",
              "          const docLinkHtml = 'Like what you see? Visit the ' +\n",
              "            '<a target=\"_blank\" href=https://colab.research.google.com/notebooks/data_table.ipynb>data table notebook</a>'\n",
              "            + ' to learn more about interactive tables.';\n",
              "          element.innerHTML = '';\n",
              "          dataTable['output_type'] = 'display_data';\n",
              "          await google.colab.output.renderOutput(dataTable, element);\n",
              "          const docLink = document.createElement('div');\n",
              "          docLink.innerHTML = docLinkHtml;\n",
              "          element.appendChild(docLink);\n",
              "        }\n",
              "      </script>\n",
              "    </div>\n",
              "  </div>\n",
              "  "
            ]
          },
          "metadata": {},
          "execution_count": 27
        }
      ]
    },
    {
      "cell_type": "code",
      "source": [
        "#Replicate column B using A\n",
        "a_fii = \"Food inflation\"\n",
        "b_fii = \"Food inflation shifted right\"\n",
        "\n",
        "df2_b = df2[a_fii] + abs(df2[a_fii].min()) #operation\n",
        "assert all( df2_b.dropna() == df2[b_fii].dropna() ) #sanity check\n",
        "\n",
        "df2_b.head()"
      ],
      "metadata": {
        "id": "xfxgU4QQuCgN",
        "colab": {
          "base_uri": "https://localhost:8080/"
        },
        "outputId": "af2a823a-8933-44d8-9b6a-cea39d0dd39f"
      },
      "execution_count": null,
      "outputs": [
        {
          "output_type": "execute_result",
          "data": {
            "text/plain": [
              "0    12.51\n",
              "1    18.57\n",
              "2    17.78\n",
              "3    16.28\n",
              "4      NaN\n",
              "Name: Food inflation, dtype: float64"
            ]
          },
          "metadata": {},
          "execution_count": 28
        }
      ]
    },
    {
      "cell_type": "code",
      "source": [
        "#Replicate column I*10 using B\n",
        "i_fii = \"Normalized*10\"\n",
        "\n",
        "#normalisation\n",
        "q1, q3 = df2_b.quantile(.25), df2_b.quantile(.75)\n",
        "outlier_uppercut = q3 + 2*(q3-q1) \n",
        "#q3 + 2*(q3-q1) there is a manual override in the sheet\n",
        "filter = df2_b.between(q1, outlier_uppercut, inclusive=\"both\")\n",
        "normalisation = pd.Series([\n",
        "    #operation\n",
        "     ((b-df2_b.min())/(df2_b[filter].max()-df2_b.min()) if b < outlier_uppercut\n",
        "     else (1. if not np.isnan(b) else np.nan))\n",
        "     for b in df2_b \n",
        "])\n",
        "\n",
        "#reindexing\n",
        "df2_i = 10*(normalisation)\n",
        "df2_i"
      ],
      "metadata": {
        "id": "pSj3I2jbvwhm",
        "colab": {
          "base_uri": "https://localhost:8080/"
        },
        "outputId": "589a42f1-2be2-4108-8ae3-0a3924455b84"
      },
      "execution_count": null,
      "outputs": [
        {
          "output_type": "execute_result",
          "data": {
            "text/plain": [
              "0      2.601913\n",
              "1      3.862313\n",
              "2      3.698003\n",
              "3      3.386023\n",
              "4           NaN\n",
              "         ...   \n",
              "191         NaN\n",
              "192    9.993482\n",
              "193    2.699667\n",
              "194    7.850501\n",
              "195    8.390537\n",
              "Length: 196, dtype: float64"
            ]
          },
          "metadata": {},
          "execution_count": 29
        }
      ]
    },
    {
      "cell_type": "markdown",
      "source": [
        "### Credit Score indicator"
      ],
      "metadata": {
        "id": "hWkqrDGXY2Yy"
      }
    },
    {
      "cell_type": "code",
      "source": [
        "#Load xlsx sheet\n",
        "df3 = pd.read_excel(f,\n",
        "  sheet_name=\"Credit Score indicator\",\n",
        "  skiprows=1,\n",
        "  nrows=196,\n",
        "  usecols=\"A:G\"\n",
        ");\n",
        "\n",
        "df3.head()"
      ],
      "metadata": {
        "id": "eeBSpPr3Y4LI",
        "colab": {
          "base_uri": "https://localhost:8080/",
          "height": 302
        },
        "outputId": "372c6e73-b831-4f05-f7b4-2c372b30f2c3"
      },
      "execution_count": null,
      "outputs": [
        {
          "output_type": "execute_result",
          "data": {
            "text/plain": [
              "       Country  ISO  Credit rating average  \\\n",
              "0        Aruba  ABW                   11.5   \n",
              "1  Afghanistan  AFG                    NaN   \n",
              "2       Angola  AGO                    6.0   \n",
              "3      Albania  ALB                    8.0   \n",
              "4      Andorra  AND                   14.0   \n",
              "\n",
              "   Credit rating average inverted (to make more positive worse)  \\\n",
              "0                                                9.5              \n",
              "1                                                NaN              \n",
              "2                                               15.0              \n",
              "3                                               13.0              \n",
              "4                                                7.0              \n",
              "\n",
              "   Credit rating average normalized ISO.1  \\\n",
              "0                          0.452381   ABW   \n",
              "1                               NaN   AFG   \n",
              "2                          0.714286   AGO   \n",
              "3                          0.619048   ALB   \n",
              "4                          0.333333   AND   \n",
              "\n",
              "   Credit rating average normalized * 10 (values in red are imputted - exclude from indexation range)  \n",
              "0                                           4.523810                                                   \n",
              "1                                           7.500000                                                   \n",
              "2                                           7.142857                                                   \n",
              "3                                           6.190476                                                   \n",
              "4                                           3.333333                                                   "
            ],
            "text/html": [
              "\n",
              "  <div id=\"df-90bd053b-2dd4-444d-b83e-ea5b45f16ac1\">\n",
              "    <div class=\"colab-df-container\">\n",
              "      <div>\n",
              "<style scoped>\n",
              "    .dataframe tbody tr th:only-of-type {\n",
              "        vertical-align: middle;\n",
              "    }\n",
              "\n",
              "    .dataframe tbody tr th {\n",
              "        vertical-align: top;\n",
              "    }\n",
              "\n",
              "    .dataframe thead th {\n",
              "        text-align: right;\n",
              "    }\n",
              "</style>\n",
              "<table border=\"1\" class=\"dataframe\">\n",
              "  <thead>\n",
              "    <tr style=\"text-align: right;\">\n",
              "      <th></th>\n",
              "      <th>Country</th>\n",
              "      <th>ISO</th>\n",
              "      <th>Credit rating average</th>\n",
              "      <th>Credit rating average inverted (to make more positive worse)</th>\n",
              "      <th>Credit rating average normalized</th>\n",
              "      <th>ISO.1</th>\n",
              "      <th>Credit rating average normalized * 10 (values in red are imputted - exclude from indexation range)</th>\n",
              "    </tr>\n",
              "  </thead>\n",
              "  <tbody>\n",
              "    <tr>\n",
              "      <th>0</th>\n",
              "      <td>Aruba</td>\n",
              "      <td>ABW</td>\n",
              "      <td>11.5</td>\n",
              "      <td>9.5</td>\n",
              "      <td>0.452381</td>\n",
              "      <td>ABW</td>\n",
              "      <td>4.523810</td>\n",
              "    </tr>\n",
              "    <tr>\n",
              "      <th>1</th>\n",
              "      <td>Afghanistan</td>\n",
              "      <td>AFG</td>\n",
              "      <td>NaN</td>\n",
              "      <td>NaN</td>\n",
              "      <td>NaN</td>\n",
              "      <td>AFG</td>\n",
              "      <td>7.500000</td>\n",
              "    </tr>\n",
              "    <tr>\n",
              "      <th>2</th>\n",
              "      <td>Angola</td>\n",
              "      <td>AGO</td>\n",
              "      <td>6.0</td>\n",
              "      <td>15.0</td>\n",
              "      <td>0.714286</td>\n",
              "      <td>AGO</td>\n",
              "      <td>7.142857</td>\n",
              "    </tr>\n",
              "    <tr>\n",
              "      <th>3</th>\n",
              "      <td>Albania</td>\n",
              "      <td>ALB</td>\n",
              "      <td>8.0</td>\n",
              "      <td>13.0</td>\n",
              "      <td>0.619048</td>\n",
              "      <td>ALB</td>\n",
              "      <td>6.190476</td>\n",
              "    </tr>\n",
              "    <tr>\n",
              "      <th>4</th>\n",
              "      <td>Andorra</td>\n",
              "      <td>AND</td>\n",
              "      <td>14.0</td>\n",
              "      <td>7.0</td>\n",
              "      <td>0.333333</td>\n",
              "      <td>AND</td>\n",
              "      <td>3.333333</td>\n",
              "    </tr>\n",
              "  </tbody>\n",
              "</table>\n",
              "</div>\n",
              "      <button class=\"colab-df-convert\" onclick=\"convertToInteractive('df-90bd053b-2dd4-444d-b83e-ea5b45f16ac1')\"\n",
              "              title=\"Convert this dataframe to an interactive table.\"\n",
              "              style=\"display:none;\">\n",
              "        \n",
              "  <svg xmlns=\"http://www.w3.org/2000/svg\" height=\"24px\"viewBox=\"0 0 24 24\"\n",
              "       width=\"24px\">\n",
              "    <path d=\"M0 0h24v24H0V0z\" fill=\"none\"/>\n",
              "    <path d=\"M18.56 5.44l.94 2.06.94-2.06 2.06-.94-2.06-.94-.94-2.06-.94 2.06-2.06.94zm-11 1L8.5 8.5l.94-2.06 2.06-.94-2.06-.94L8.5 2.5l-.94 2.06-2.06.94zm10 10l.94 2.06.94-2.06 2.06-.94-2.06-.94-.94-2.06-.94 2.06-2.06.94z\"/><path d=\"M17.41 7.96l-1.37-1.37c-.4-.4-.92-.59-1.43-.59-.52 0-1.04.2-1.43.59L10.3 9.45l-7.72 7.72c-.78.78-.78 2.05 0 2.83L4 21.41c.39.39.9.59 1.41.59.51 0 1.02-.2 1.41-.59l7.78-7.78 2.81-2.81c.8-.78.8-2.07 0-2.86zM5.41 20L4 18.59l7.72-7.72 1.47 1.35L5.41 20z\"/>\n",
              "  </svg>\n",
              "      </button>\n",
              "      \n",
              "  <style>\n",
              "    .colab-df-container {\n",
              "      display:flex;\n",
              "      flex-wrap:wrap;\n",
              "      gap: 12px;\n",
              "    }\n",
              "\n",
              "    .colab-df-convert {\n",
              "      background-color: #E8F0FE;\n",
              "      border: none;\n",
              "      border-radius: 50%;\n",
              "      cursor: pointer;\n",
              "      display: none;\n",
              "      fill: #1967D2;\n",
              "      height: 32px;\n",
              "      padding: 0 0 0 0;\n",
              "      width: 32px;\n",
              "    }\n",
              "\n",
              "    .colab-df-convert:hover {\n",
              "      background-color: #E2EBFA;\n",
              "      box-shadow: 0px 1px 2px rgba(60, 64, 67, 0.3), 0px 1px 3px 1px rgba(60, 64, 67, 0.15);\n",
              "      fill: #174EA6;\n",
              "    }\n",
              "\n",
              "    [theme=dark] .colab-df-convert {\n",
              "      background-color: #3B4455;\n",
              "      fill: #D2E3FC;\n",
              "    }\n",
              "\n",
              "    [theme=dark] .colab-df-convert:hover {\n",
              "      background-color: #434B5C;\n",
              "      box-shadow: 0px 1px 3px 1px rgba(0, 0, 0, 0.15);\n",
              "      filter: drop-shadow(0px 1px 2px rgba(0, 0, 0, 0.3));\n",
              "      fill: #FFFFFF;\n",
              "    }\n",
              "  </style>\n",
              "\n",
              "      <script>\n",
              "        const buttonEl =\n",
              "          document.querySelector('#df-90bd053b-2dd4-444d-b83e-ea5b45f16ac1 button.colab-df-convert');\n",
              "        buttonEl.style.display =\n",
              "          google.colab.kernel.accessAllowed ? 'block' : 'none';\n",
              "\n",
              "        async function convertToInteractive(key) {\n",
              "          const element = document.querySelector('#df-90bd053b-2dd4-444d-b83e-ea5b45f16ac1');\n",
              "          const dataTable =\n",
              "            await google.colab.kernel.invokeFunction('convertToInteractive',\n",
              "                                                     [key], {});\n",
              "          if (!dataTable) return;\n",
              "\n",
              "          const docLinkHtml = 'Like what you see? Visit the ' +\n",
              "            '<a target=\"_blank\" href=https://colab.research.google.com/notebooks/data_table.ipynb>data table notebook</a>'\n",
              "            + ' to learn more about interactive tables.';\n",
              "          element.innerHTML = '';\n",
              "          dataTable['output_type'] = 'display_data';\n",
              "          await google.colab.output.renderOutput(dataTable, element);\n",
              "          const docLink = document.createElement('div');\n",
              "          docLink.innerHTML = docLinkHtml;\n",
              "          element.appendChild(docLink);\n",
              "        }\n",
              "      </script>\n",
              "    </div>\n",
              "  </div>\n",
              "  "
            ]
          },
          "metadata": {},
          "execution_count": 31
        }
      ]
    },
    {
      "cell_type": "code",
      "source": [
        "#Replicate column B using A\n",
        "a_csi = \"Credit rating average\"\n",
        "b_csi = \"Credit rating average inverted (to make more positive worse)\"\n",
        "\n",
        "df3_b = 21. - df3[a_csi] #operation\n",
        "assert all( df3_b.dropna() == df3[b_csi].dropna() ) #sanity check\n",
        "\n",
        "df3_b.head()"
      ],
      "metadata": {
        "id": "01VrYVLb0q_g",
        "colab": {
          "base_uri": "https://localhost:8080/"
        },
        "outputId": "c3d1163d-e797-4833-8d8f-8eb277ad1151"
      },
      "execution_count": null,
      "outputs": [
        {
          "output_type": "execute_result",
          "data": {
            "text/plain": [
              "0     9.5\n",
              "1     NaN\n",
              "2    15.0\n",
              "3    13.0\n",
              "4     7.0\n",
              "Name: Credit rating average, dtype: float64"
            ]
          },
          "metadata": {},
          "execution_count": 32
        }
      ]
    },
    {
      "cell_type": "code",
      "source": [
        "#Replicate column I*10 using B\n",
        "i_csi = \"Credit rating average normalized * 10 (values in red are imputted - exclude from indexation range)\"\n",
        "\n",
        "#normalisation\n",
        "q1, q3 = df3[a_csi].quantile(.25), df3[a_csi].quantile(.75) #using column A\n",
        "# q1, q3 = df3_b.quantile(.25), df3_b.quantile(.75) #using column B\n",
        "outlier_uppercut = q3 + 2*(q3-q1)\n",
        "filter = df3_b.between(q1, outlier_uppercut, inclusive=\"both\")\n",
        "normalisation = pd.Series([\n",
        "    #operation\n",
        "     ((b-df3_b.min())/(df3_b[filter].max()-df3_b.min()) if b < outlier_uppercut\n",
        "     else (1. if not np.isnan(b) else np.nan))\n",
        "     for b in df3_b \n",
        "])\n",
        "\n",
        "#reindexing\n",
        "df3_i = 10*(normalisation)\n",
        "df3_i"
      ],
      "metadata": {
        "id": "eYPQcXb_1LRh",
        "colab": {
          "base_uri": "https://localhost:8080/"
        },
        "outputId": "54d46578-9833-472d-bf0c-d33d4176ed0f"
      },
      "execution_count": null,
      "outputs": [
        {
          "output_type": "execute_result",
          "data": {
            "text/plain": [
              "0      4.523810\n",
              "1           NaN\n",
              "2      7.142857\n",
              "3      6.190476\n",
              "4      3.333333\n",
              "         ...   \n",
              "191         NaN\n",
              "192         NaN\n",
              "193    5.555556\n",
              "194    9.047619\n",
              "195    9.523810\n",
              "Length: 196, dtype: float64"
            ]
          },
          "metadata": {},
          "execution_count": 34
        }
      ]
    },
    {
      "cell_type": "markdown",
      "source": [
        "### External conflict risk"
      ],
      "metadata": {
        "id": "7jS2H0e-Y4cL"
      }
    },
    {
      "cell_type": "code",
      "source": [
        "#Load xlsx sheet\n",
        "df4 = pd.read_excel(f,\n",
        "  sheet_name=\"External conflict risk\",\n",
        "  skiprows=1,\n",
        "  nrows=196,\n",
        "  usecols=\"A:G\"\n",
        ");\n",
        "\n",
        "df4.head()"
      ],
      "metadata": {
        "id": "dYAWvCHTY5l4"
      },
      "execution_count": null,
      "outputs": []
    },
    {
      "cell_type": "code",
      "source": [
        "#Replicate column C123 using A1, A2  and A3\n",
        "a1_ecr = \"GPI Militarization 2022\"\n",
        "a2_ecr = \"GPI Relationship with neighbors 2022\"\n",
        "a3_ecr = \"Current external conflict (5 if current; 3 if probable or stand-off; 0 if none)\"\n",
        "c123_ecr = \"GPI External Components\"\n",
        "\n",
        "df4_c123 = ( df4[a1_ecr]+df4[a2_ecr]+df4[a3_ecr] )/3 #operation\n",
        "assert all( df4_c123.dropna() == df4[c123_ecr].dropna() ) #sanity check\n",
        "\n",
        "df4_c123.head()"
      ],
      "metadata": {
        "id": "79sXfySK3F7p"
      },
      "execution_count": null,
      "outputs": []
    },
    {
      "cell_type": "code",
      "source": [
        "#Replicate column I using C123\n",
        "i_ecr = \"GPI external components normalized\"\n",
        "\n",
        "#normalisation\n",
        "q1, q3 = df4_c123.quantile(.25), df4_c123.quantile(.75) #using column C123\n",
        "outlier_uppercut = q3 + 2*(q3-q1)\n",
        "filter = df4_c123.between(q1, outlier_uppercut, inclusive=\"both\")\n",
        "normalisation = pd.Series([\n",
        "    #operation\n",
        "     ((c-df4_c123.min())/(df4_c123[filter].max()-df4_c123.min()) if c < outlier_uppercut\n",
        "     else (1. if not np.isnan(c) else np.nan))\n",
        "     for c in df4_c123 \n",
        "])\n",
        "\n",
        "#reindexing\n",
        "df4_i = 10*(normalisation)\n",
        "df4_i"
      ],
      "metadata": {
        "id": "P-KMMug13xpT"
      },
      "execution_count": null,
      "outputs": []
    },
    {
      "cell_type": "markdown",
      "source": [
        "### Political stability abs conf"
      ],
      "metadata": {
        "id": "JO3pprcPY531"
      }
    },
    {
      "cell_type": "code",
      "source": [
        "#Load xlsx sheet\n",
        "df5 = pd.read_excel(f,\n",
        "  sheet_name=\"Political stability abs conf\",\n",
        "  skiprows=1,\n",
        "  nrows=196,\n",
        "  usecols=\"A:D\"\n",
        ")\n",
        "\n",
        "df5.head()"
      ],
      "metadata": {
        "id": "9tq6Ph3oY9Y-"
      },
      "execution_count": null,
      "outputs": []
    },
    {
      "cell_type": "code",
      "source": [
        "#Replicate column I using A\n",
        "a_psac = \"2021 WGI Political stability\"\n",
        "i_psac = \"WGI normalized\"\n",
        "\n",
        "#normalisation\n",
        "q1, q3 = df5[a_psac].quantile(.25), df5[a_psac].quantile(.75) #using column A\n",
        "outlier_uppercut = q3 + 2*(q3-q1)\n",
        "filter = df5[a_psac].between(q1, outlier_uppercut, inclusive=\"both\")\n",
        "normalisation = pd.Series([\n",
        "    #operation\n",
        "     ((a-df5[a_psac].min())/(df5[a_psac][filter].max()-df5[a_psac].min()) if a < outlier_uppercut\n",
        "     else (1. if not np.isnan(a) else np.nan))\n",
        "     for a in df5[a_psac]\n",
        "])\n",
        "\n",
        "#reindexing\n",
        "df5_i = 10 - 10*(normalisation)\n",
        "df5_i"
      ],
      "metadata": {
        "id": "dL7f1fxd5vXj"
      },
      "execution_count": null,
      "outputs": []
    },
    {
      "cell_type": "markdown",
      "source": [
        "### Climate indicator"
      ],
      "metadata": {
        "id": "cXk2KADQY9v4"
      }
    },
    {
      "cell_type": "code",
      "source": [
        "#Load xlsx sheet\n",
        "df6 = pd.read_excel(f,\n",
        "  sheet_name=\"Climate indicator\",\n",
        "  skiprows=1,\n",
        "  nrows=196,\n",
        "  usecols=\"A:E\"\n",
        ");\n",
        "\n",
        "df6.head()"
      ],
      "metadata": {
        "id": "UPdAPxnLY--N"
      },
      "execution_count": null,
      "outputs": []
    },
    {
      "cell_type": "code",
      "source": [
        "#Replicate column I using A\n",
        "a_ci = \"ND-GAIN Climate Vulnerability Index\"\n",
        "i_ci = \"Climate index taken to 10 point scale\"\n",
        "\n",
        "#normalisation\n",
        "q1, q3 = df6[a_ci].quantile(.25), df6[a_ci].quantile(.75)\n",
        "outlier_uppercut = q3 + 2*(q3-q1)\n",
        "q1,q3,outlier_uppercut\n",
        "filter = df6[a_ci].between(q1, outlier_uppercut, inclusive=\"both\")\n",
        "normalisation = pd.Series([\n",
        "    #operation\n",
        "     ((a-df6[a_ci].min())/(df6[a_ci][filter].max()-df6[a_ci].min()) if a < outlier_uppercut\n",
        "     else (1. if not np.isnan(a) else np.nan))\n",
        "     for a in df6[a_ci]\n",
        "])\n",
        "\n",
        "#reindexing\n",
        "df6_i = 10*(normalisation)\n",
        "df6_i"
      ],
      "metadata": {
        "id": "0TBGXnIt7YEH"
      },
      "execution_count": null,
      "outputs": []
    }
  ]
}